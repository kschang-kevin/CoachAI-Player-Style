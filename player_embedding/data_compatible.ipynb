{
 "cells": [
  {
   "cell_type": "code",
   "execution_count": 63,
   "metadata": {},
   "outputs": [],
   "source": [
    "import pandas as pd"
   ]
  },
  {
   "cell_type": "code",
   "execution_count": 64,
   "metadata": {},
   "outputs": [],
   "source": [
    "data = pd.read_csv('dataset.csv')\n",
    "match = pd.read_csv('match.csv')"
   ]
  },
  {
   "cell_type": "code",
   "execution_count": 65,
   "metadata": {},
   "outputs": [],
   "source": [
    "name_a = []\n",
    "name_b = []"
   ]
  },
  {
   "cell_type": "code",
   "execution_count": 66,
   "metadata": {},
   "outputs": [],
   "source": [
    "for i in range(len(data)):\n",
    "    name_a.append(match['winner'][match.index[match['id'] == data['match_id'][i]]].tolist()[0])\n",
    "    name_b.append(match['loser'][match.index[match['id'] == data['match_id'][i]]].tolist()[0])\n",
    "data['name_A'] = name_a\n",
    "data['name_B'] = name_b"
   ]
  },
  {
   "cell_type": "code",
   "execution_count": 67,
   "metadata": {},
   "outputs": [],
   "source": [
    "# data = data[data.name_A != 'CHEN Yufei']\n",
    "# data = data[data.name_A != 'TAI Tzu Ying']\n",
    "# data = data[data.name_A != 'PUSARLA V. Sindhu']\n",
    "# data = data[data.name_B != 'CHEN Yufei']\n",
    "# data = data[data.name_B != 'TAI Tzu Ying']\n",
    "# data = data[data.name_B != 'PUSARLA V. Sindhu']"
   ]
  },
  {
   "cell_type": "code",
   "execution_count": 68,
   "metadata": {},
   "outputs": [],
   "source": [
    "# data = data.reset_index(drop=True)"
   ]
  },
  {
   "cell_type": "code",
   "execution_count": 69,
   "metadata": {},
   "outputs": [],
   "source": [
    "# player = []\n",
    "# for i in range(len(data)):\n",
    "#     if data['player'][i] == data['name_A'][i]:\n",
    "#         player.append('A')\n",
    "#     if data['player'][i] == data['name_B'][i]:\n",
    "#         player.append('B')\n",
    "# data['player'] = player"
   ]
  },
  {
   "cell_type": "code",
   "execution_count": 70,
   "metadata": {},
   "outputs": [],
   "source": [
    "data.to_csv('aug_set.csv', index=False)"
   ]
  },
  {
   "cell_type": "code",
   "execution_count": 12,
   "metadata": {},
   "outputs": [
    {
     "data": {
      "text/plain": [
       "array(['Kento MOMOTA', 'Anthony Sinisuka GINTING', 'CHEN Long',\n",
       "       'CHEN Yufei', 'CHOU Tien Chen', 'Anders ANTONSEN',\n",
       "       'PUSARLA V. Sindhu', 'Khosit PHETPRADAB', 'NG Ka Long Angus',\n",
       "       'Viktor AXELSEN'], dtype=object)"
      ]
     },
     "execution_count": 12,
     "metadata": {},
     "output_type": "execute_result"
    }
   ],
   "source": [
    "data['name_A'].unique()"
   ]
  },
  {
   "cell_type": "code",
   "execution_count": null,
   "metadata": {},
   "outputs": [],
   "source": []
  }
 ],
 "metadata": {
  "kernelspec": {
   "display_name": "Python 3",
   "language": "python",
   "name": "python3"
  },
  "language_info": {
   "codemirror_mode": {
    "name": "ipython",
    "version": 3
   },
   "file_extension": ".py",
   "mimetype": "text/x-python",
   "name": "python",
   "nbconvert_exporter": "python",
   "pygments_lexer": "ipython3",
   "version": "3.8.5"
  }
 },
 "nbformat": 4,
 "nbformat_minor": 4
}
