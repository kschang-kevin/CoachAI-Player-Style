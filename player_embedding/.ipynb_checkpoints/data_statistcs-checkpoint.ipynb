{
 "cells": [
  {
   "cell_type": "code",
   "execution_count": 1,
   "metadata": {},
   "outputs": [],
   "source": [
    "import pandas as pd \n",
    "import numpy as np\n",
    "from sklearn import preprocessing"
   ]
  },
  {
   "cell_type": "code",
   "execution_count": 2,
   "metadata": {},
   "outputs": [],
   "source": [
    "data = pd.read_csv('aug_set.csv')"
   ]
  },
  {
   "cell_type": "code",
   "execution_count": 18,
   "metadata": {},
   "outputs": [
    {
     "data": {
      "text/plain": [
       "(14,\n",
       " array(['Anders ANTONSEN', 'Anthony Sinisuka GINTING', 'CHEN Long',\n",
       "        'CHEN Yufei', 'CHOU Tien Chen', 'Jonatan CHRISTIE', 'Kento MOMOTA',\n",
       "        'Khosit PHETPRADAB', 'NG Ka Long Angus', 'PUSARLA V. Sindhu',\n",
       "        'SHI Yuqi', 'TAI Tzu Ying', 'Viktor AXELSEN', 'WANG Tzu Wei'],\n",
       "       dtype=object))"
      ]
     },
     "execution_count": 18,
     "metadata": {},
     "output_type": "execute_result"
    }
   ],
   "source": [
    "len(np.unique(data[['name_A', 'name_B']].values)), np.unique(data[['name_A', 'name_B']].values)"
   ]
  },
  {
   "cell_type": "code",
   "execution_count": 19,
   "metadata": {},
   "outputs": [
    {
     "data": {
      "text/plain": [
       "array(['發短球', '長球', '推撲球', '殺球', '接殺防守', '平球', '網前球', '挑球', '切球', '發長球'],\n",
       "      dtype=object)"
      ]
     },
     "execution_count": 19,
     "metadata": {},
     "output_type": "execute_result"
    }
   ],
   "source": [
    "data['type'].unique()"
   ]
  },
  {
   "cell_type": "code",
   "execution_count": null,
   "metadata": {},
   "outputs": [],
   "source": [
    "mem = data['rally'][0]\n",
    "cnt = 0\n",
    "for i in range(len(data)):\n",
    "    if data['rally'][i] != mem:\n",
    "        if cnt < 1:\n",
    "            print(i)\n",
    "        mem = data['rally'][i]\n",
    "        cnt = 0\n",
    "    cnt += 1\n",
    "    "
   ]
  }
 ],
 "metadata": {
  "kernelspec": {
   "display_name": "Python 3",
   "language": "python",
   "name": "python3"
  },
  "language_info": {
   "codemirror_mode": {
    "name": "ipython",
    "version": 3
   },
   "file_extension": ".py",
   "mimetype": "text/x-python",
   "name": "python",
   "nbconvert_exporter": "python",
   "pygments_lexer": "ipython3",
   "version": "3.8.5"
  }
 },
 "nbformat": 4,
 "nbformat_minor": 4
}
