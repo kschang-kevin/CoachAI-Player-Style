{
 "cells": [
  {
   "cell_type": "code",
   "execution_count": 220,
   "metadata": {},
   "outputs": [],
   "source": [
    "import torch\n",
    "from torch.utils.data import Dataset\n",
    "from torch.utils.data import DataLoader\n",
    "import torch.nn.utils.rnn as rnn_utils\n",
    "\n",
    "import torch.nn as nn\n",
    "import pandas as pd\n",
    "import numpy as np\n",
    "\n",
    "import matplotlib.pyplot as plt\n",
    "import os\n",
    "import gc\n",
    "import csv\n",
    "\n",
    "import json\n",
    "from tqdm import tqdm\n",
    "import pickle\n",
    "import random\n",
    "\n",
    "import math\n",
    "\n",
    "import seaborn as sn\n",
    "from IPython.display import clear_output\n",
    "from ipywidgets import Output\n",
    "from IPython import display\n",
    "import pickle\n",
    "from scipy.spatial.distance import cdist \n",
    "from scipy import spatial"
   ]
  },
  {
   "cell_type": "code",
   "execution_count": 2,
   "metadata": {},
   "outputs": [
    {
     "data": {
      "text/plain": [
       "0"
      ]
     },
     "execution_count": 2,
     "metadata": {},
     "output_type": "execute_result"
    }
   ],
   "source": [
    "#device = torch.cuda.device(2)\n",
    "torch.cuda.set_device(0)\n",
    "torch.cuda.current_device()"
   ]
  },
  {
   "cell_type": "code",
   "execution_count": 3,
   "metadata": {},
   "outputs": [],
   "source": [
    "seed_value = 17\n",
    "torch.manual_seed(seed_value)\n",
    "torch.cuda.manual_seed(seed_value)\n",
    "torch.cuda.manual_seed_all(seed_value)\n",
    "random.seed(17)"
   ]
  },
  {
   "cell_type": "code",
   "execution_count": 4,
   "metadata": {},
   "outputs": [],
   "source": [
    "target_players = ['Anders ANTONSEN',\n",
    " 'Anthony Sinisuka GINTING',\n",
    " 'CHEN Long',\n",
    " \n",
    " 'CHOU Tien Chen',\n",
    " 'Jonatan CHRISTIE',\n",
    " 'Kento MOMOTA',\n",
    " 'Khosit PHETPRADAB',\n",
    " 'NG Ka Long Angus',\n",
    " '\n",
    " 'SHI Yuqi',\n",
    " \n",
    " 'Viktor AXELSEN',\n",
    " 'WANG Tzu Wei']"
   ]
  },
  {
   "cell_type": "code",
   "execution_count": 5,
   "metadata": {},
   "outputs": [],
   "source": [
    "def player2cat(player):\n",
    "    p2c = {'Anders ANTONSEN': 0, 'Anthony Sinisuka GINTING': 1, 'CHEN Long': 2,\n",
    "      'CHOU Tien Chen': 3, 'Jonatan CHRISTIE': 4, 'Kento MOMOTA': 5,\n",
    "     'Khosit PHETPRADAB': 6, 'NG Ka Long Angus': 7,\n",
    "     'SHI Yuqi': 8,  'Viktor AXELSEN': 9, 'WANG Tzu Wei': 10}\n",
    "    return p2c[player]\n",
    "\n",
    "def cat2player(cat):\n",
    "    c2p = {0:'ANTONSEN', 1:'GINTING', 2:'Long',  3:'CHOU', 4:'CHRISTIE',\n",
    "           5:'MOMOTA', 6:'PHETPRADAB', 7:'NG',  8:'SHI', \n",
    "           9:'AXELSEN', 10:'WANG'}\n",
    "    return c2p[cat]\n",
    "\n",
    "def generate_labels(rally_data):\n",
    "    # predict player A and B\n",
    "    playerA = rally_data['name_A'].values[0]\n",
    "    playerB = rally_data['name_B'].values[0]\n",
    "\n",
    "    if playerA in target_players and playerB in target_players:\n",
    "        return np.array([player2cat(playerA)]),  np.array([player2cat(playerB)])\n",
    "    elif playerA not in target_players and playerB in target_players:\n",
    "        return None,  np.array([player2cat(playerB)])\n",
    "    elif playerA in target_players and playerB not in target_players:\n",
    "        return np.array([player2cat(playerA)]),  None\n",
    "    elif playerA in target_players and playerB in target_players:\n",
    "        return None,  None"
   ]
  },
  {
   "cell_type": "code",
   "execution_count": 6,
   "metadata": {},
   "outputs": [],
   "source": [
    "def generate_rally_ids(rally_data):\n",
    "    # predict player A and B\n",
    "    playerA = rally_data['name_A'].values[0]\n",
    "    playerB = rally_data['name_B'].values[0]\n",
    "    rally_id = rally_data['rally_id'].values[0]\n",
    "    \n",
    "    if playerA in target_players and playerB in target_players:\n",
    "        return np.array([rally_id]),  np.array([rally_id])\n",
    "    elif playerA not in target_players and playerB in target_players:\n",
    "        return None,  np.array([rally_id])\n",
    "    elif playerA in target_players and playerB not in target_players:\n",
    "        return np.array([rally_id]),  None\n",
    "    elif playerA in target_players and playerB in target_players:\n",
    "        return None,  None"
   ]
  },
  {
   "cell_type": "code",
   "execution_count": 7,
   "metadata": {},
   "outputs": [],
   "source": [
    "def generate_opponent_name(rally_data):\n",
    "    # predict player A and B\n",
    "    playerA = rally_data['name_A'].values[0]\n",
    "    playerB = rally_data['name_B'].values[0]\n",
    "\n",
    "    if playerA in target_players and playerB in target_players:\n",
    "        return np.array([playerB]),  np.array([playerA])\n",
    "    elif playerA not in target_players and playerB in target_players:\n",
    "        return None,  np.array([playerA])\n",
    "    elif playerA in target_players and playerB not in target_players:\n",
    "        return np.array([playerB]),  None\n",
    "    elif playerA in target_players and playerB in target_players:\n",
    "        return None,  None"
   ]
  },
  {
   "cell_type": "code",
   "execution_count": 8,
   "metadata": {},
   "outputs": [],
   "source": [
    "def type2cat(shot_type):\n",
    "    t2c = {'發短球': 0, '長球': 1, '推撲球': 2, '殺球': 3, '接殺防守': 4, '平球': 5,\n",
    "           '網前球': 6, '挑球': 7, '切球': 8, '發長球': 9}\n",
    "    return t2c[shot_type]\n",
    "\n",
    "def process_rally(rally_data):\n",
    "    mean_x, std_x = 630., 160.\n",
    "    mean_y, std_y = 470., 105.\n",
    "    \n",
    "    drop_cols = ['rally', 'rally_id', 'match_id', 'set', 'ball_round', 'time', 'frame_num', 'db', 'flaw', 'lose_reason', 'win_reason', 'type', 'server',\n",
    "                 'hit_area', 'landing_area', 'player_location_area', 'opponent_location_area',\n",
    "                 'name_A', 'name_B', 'getpoint_player', 'roundscore_A', 'roundscore_B',\n",
    "                 'landing_height', 'landing_x', 'landing_y']\n",
    "    \n",
    "    playerA = rally_data['name_A'].values[0]\n",
    "    playerB = rally_data['name_B'].values[0]    \n",
    "    \n",
    "    frame_diff = np.pad(rally_data['frame_num'].values[1:] - rally_data['frame_num'].values[:-1], (1, 0), mode='constant')\n",
    "    rally_data['frame_diff'] = frame_diff\n",
    "    \n",
    "    rally_data['aroundhead'] = (rally_data['aroundhead'] == 1).astype(int)\n",
    "    rally_data['backhand'] = (rally_data['backhand'] == 1).astype(int)\n",
    "\n",
    "    rally_data['player'] = (rally_data['player'] == 'A').astype(int)\n",
    "    \n",
    "    rally_data['hit_height'] = (rally_data['hit_height'] -1)\n",
    "    rally_data['landing_height'] = (rally_data['landing_height'] -1)\n",
    "    \n",
    "    rally_data['hit_x'].values[0] = rally_data['player_location_x'].values[0]\n",
    "    rally_data['hit_y'].values[0] = rally_data['player_location_y'].values[0]\n",
    "    \n",
    "    rally_data['hit_x'] = (rally_data['hit_x'] - mean_x)/std_x\n",
    "    rally_data['hit_y'] = (rally_data['hit_y'] - mean_y)/std_y\n",
    "    rally_data['landing_x'] = (rally_data['landing_x'] - mean_x)/std_x\n",
    "    rally_data['landing_y'] = (rally_data['landing_y'] - mean_y)/std_y\n",
    "    rally_data['player_location_x'] = (rally_data['player_location_x'] - mean_x)/std_x\n",
    "    rally_data['player_location_y'] = (rally_data['player_location_y'] - mean_y)/std_y\n",
    "    rally_data['opponent_location_x'] = (rally_data['opponent_location_x'] - mean_x)/std_x\n",
    "    rally_data['opponent_location_y'] = (rally_data['opponent_location_y'] - mean_y)/std_y\n",
    "\n",
    "    rally_data['type_code'] = [type2cat(t) for t in rally_data['type'].values]\n",
    "    rally_data.drop(columns=drop_cols, inplace=True)\n",
    "    \n",
    "    inverse = rally_data.copy()\n",
    "    inverse['player'] = (inverse['player']+1)%2\n",
    "    \n",
    "    if playerA in target_players and playerB in target_players:\n",
    "        return rally_data.values, inverse.values\n",
    "    elif playerA not in target_players and playerB in target_players:\n",
    "        return None, inverse.values\n",
    "    elif playerA in target_players and playerB not in target_players:\n",
    "        return rally_data.values, None\n",
    "    elif playerA in target_players and playerB in target_players:\n",
    "        return None,  None\n"
   ]
  },
  {
   "cell_type": "code",
   "execution_count": 9,
   "metadata": {},
   "outputs": [],
   "source": [
    "def collate_fn(data):\n",
    "    seq, label, rally_id, opponent_name = zip(*data)\n",
    "    seq = list(seq)\n",
    "    label = list(label)\n",
    "    rally_id = list(rally_id)\n",
    "    opponent_name = list(opponent_name)\n",
    "    pairs = [(s, l, r, o) for s, l, r, o in zip(seq, label, rally_id, opponent_name)]\n",
    "    pairs.sort(key=lambda x: len(x[0]), reverse=True)\n",
    "    seq = [s for s, l, r, o in pairs]\n",
    "    label = [l for s, l, r, o in pairs]\n",
    "    rally_id  = [r for s, l, r, o in pairs]\n",
    "    opponent_name  = [o for s, l, r, o in pairs]\n",
    "    seq_length = [len(sq) for sq in seq]\n",
    "    seq = rnn_utils.pad_sequence(seq, batch_first=True, padding_value=0)\n",
    "    labels = torch.zeros(0, 1)\n",
    "    for l in label:\n",
    "        labels = torch.cat([labels, l], axis=0)\n",
    "    return seq, seq_length, labels, rally_id, opponent_name"
   ]
  },
  {
   "cell_type": "code",
   "execution_count": 10,
   "metadata": {},
   "outputs": [],
   "source": [
    "data_path = 'aug_set.csv'"
   ]
  },
  {
   "cell_type": "code",
   "execution_count": 11,
   "metadata": {},
   "outputs": [],
   "source": [
    "def check_nan(np_rally):\n",
    "    if np_rally is None:\n",
    "        return False\n",
    "    else:\n",
    "        return np.isnan(np.sum(np_rally))"
   ]
  },
  {
   "cell_type": "code",
   "execution_count": 12,
   "metadata": {},
   "outputs": [
    {
     "name": "stderr",
     "output_type": "stream",
     "text": [
      "100%|██████████| 2897/2897 [00:02<00:00, 1290.03it/s]\n"
     ]
    }
   ],
   "source": [
    "data = pd.read_csv(data_path)\n",
    "\n",
    "rids = set()\n",
    "# drop flawed rallies, record label distribution\n",
    "for rally in tqdm(data['rally_id'].unique()):\n",
    "    if data.loc[data['rally_id']==rally]['flaw'].any() or len(data.loc[data['rally_id']==rally])<=2 or rally in [578, 596]:\n",
    "        continue\n",
    "    else:\n",
    "        rids.add(rally)"
   ]
  },
  {
   "cell_type": "code",
   "execution_count": 13,
   "metadata": {},
   "outputs": [],
   "source": [
    "def train_test_split(label2rids, test_ratio):\n",
    "    test = random.sample(label2rids, k=round(len(label2rids)*test_ratio))\n",
    "    train = [rid for rid in label2rids if rid not in test]\n",
    "    return train, test"
   ]
  },
  {
   "cell_type": "code",
   "execution_count": 14,
   "metadata": {},
   "outputs": [],
   "source": [
    "class PlayerClassificationDataset(Dataset):\n",
    "    def __init__(self, data, rids, split):\n",
    "        self.data = data\n",
    "        self.rids = rids\n",
    "        self.seqs = []\n",
    "        self.labels = []\n",
    "        self.rally_ids = []        \n",
    "        self.opponent_names = []\n",
    "        \n",
    "        tmp = [process_rally(self.data.loc[self.data['rally_id']==rally].copy()) for rally in rids]\n",
    "        for seq1, seq2 in tmp:\n",
    "            if seq1 is not None:\n",
    "                self.seqs.append(seq1)\n",
    "            if seq2 is not None:\n",
    "                self.seqs.append(seq2)\n",
    "\n",
    "        tmp = [generate_labels(self.data.loc[self.data['rally_id']==rally].copy()) for rally in rids]\n",
    "        for label1, label2 in tmp:\n",
    "            if label1 is not None:\n",
    "                self.labels.append(label1)\n",
    "            if label2 is not None:\n",
    "                self.labels.append(label2)    \n",
    "                \n",
    "        tmp = [generate_rally_ids(self.data.loc[self.data['rally_id']==rally].copy()) for rally in rids]\n",
    "        for rally_id1, rally_id2 in tmp:\n",
    "            if rally_id1 is not None:\n",
    "                self.rally_ids.append(rally_id1)\n",
    "            if rally_id2 is not None:\n",
    "                self.rally_ids.append(rally_id2)\n",
    "                \n",
    "        tmp = [generate_opponent_name(self.data.loc[self.data['rally_id']==rally].copy()) for rally in rids]\n",
    "        for opponent_name1, opponent_name2 in tmp:\n",
    "            if opponent_name1 is not None:\n",
    "                self.opponent_names.append(opponent_name1)\n",
    "            if opponent_name2 is not None:\n",
    "                self.opponent_names.append(opponent_name2)\n",
    "\n",
    "        self.nan_checking()\n",
    "    def __len__(self):\n",
    "        return len(self.seqs)\n",
    "    \n",
    "    def __getitem__(self, index):\n",
    "        return torch.Tensor(self.seqs[index]), torch.Tensor(self.labels[index]).unsqueeze(0), torch.Tensor(self.rally_ids[index]).unsqueeze(0), self.opponent_names[index]\n",
    "    \n",
    "    def nan_checking(self):\n",
    "        bad_idxs = [idx for idx in range(len(self.seqs)) if check_nan(self.seqs[idx])]\n",
    "        self.seqs = [seq for idx, seq in enumerate(self.seqs) if idx not in bad_idxs]\n",
    "        self.labels = [label for idx, label in enumerate(self.labels) if idx not in bad_idxs]\n",
    "        self.rally_ids = [label for idx, label in enumerate(self.rally_ids) if idx not in bad_idxs]\n",
    "        self.opponent_names = [label for idx, label in enumerate(self.opponent_names) if idx not in bad_idxs]\n",
    "#         print(\"Removed %d rallies with NaN value!\"%len(bad_idxs))"
   ]
  },
  {
   "cell_type": "code",
   "execution_count": 15,
   "metadata": {},
   "outputs": [],
   "source": [
    "class CNNRNN(nn.Module):\n",
    "    def __init__(self, input_dim, embed_dim, hidden_dim, out_dim, GRU_layers):\n",
    "        super(CNNRNN, self).__init__()\n",
    "        self.input_dim = input_dim\n",
    "        self.embed_dim = embed_dim\n",
    "        self.hidden_dim = hidden_dim\n",
    "        self.out_dim = out_dim\n",
    "        self.GRU_layers = GRU_layers\n",
    "        \n",
    "        self.type_embedding = nn.Embedding(10, self.embed_dim)\n",
    "        self.proj = nn.Linear(self.input_dim - 1, self.hidden_dim - self.embed_dim)\n",
    "        self.fc1 = nn.Linear(self.hidden_dim, self.hidden_dim)\n",
    "        \n",
    "        self.conv1 = nn.Conv1d(self.hidden_dim, self.hidden_dim, kernel_size=3, stride=1, padding=1)\n",
    "        self.GRU = nn.GRU(input_size=self.hidden_dim, hidden_size=self.hidden_dim, num_layers=self.GRU_layers, bias=True, batch_first=True, bidirectional=True)\n",
    "        self.fc2 = nn.Linear(self.hidden_dim*2, self.hidden_dim)\n",
    "        self.output = nn.Linear(self.hidden_dim, self.out_dim)\n",
    "        self.relu = nn.ReLU()\n",
    "        \n",
    "    def forward(self, seq, seq_length):\n",
    "        feats = seq[:, :, :-1]\n",
    "        code = seq[:, :, -1].long()\n",
    "        embed = self.type_embedding(code)\n",
    "        feats_proj = self.proj(feats)\n",
    "        x = torch.cat([feats_proj, embed], axis=-1)\n",
    "        x = self.relu(x)\n",
    "        x = self.fc1(x)\n",
    "        x = self.relu(x)\n",
    "        \n",
    "        x = rnn_utils.pack_padded_sequence(x, seq_length, batch_first=True, enforce_sorted=False)\n",
    "        output, h_n = self.GRU(x)\n",
    "\n",
    "        out_pad, out_len = rnn_utils.pad_packed_sequence(output, batch_first=True)\n",
    "        x = out_pad[torch.arange(out_len.shape[0]), out_len-1, :]\n",
    "        x = self.relu(x)\n",
    "        x = self.fc2(x)\n",
    "        x = self.relu(x)\n",
    "        y = self.output(x)\n",
    "        return x, y"
   ]
  },
  {
   "cell_type": "code",
   "execution_count": 16,
   "metadata": {},
   "outputs": [],
   "source": [
    "def generate_all_embedding(num_classes, hidden_dim, model, pc_loader):\n",
    "    with torch.no_grad():\n",
    "        model.eval()\n",
    "        embeddings = torch.zeros(0, hidden_dim).cuda()\n",
    "        classes = torch.zeros(0).long().cuda()\n",
    "        rally_ids = []\n",
    "        opponent_names = []\n",
    "        for seq, seq_length, labels, rally_id, opponent_name in pc_loader:\n",
    "            seq = seq.cuda()\n",
    "            rally_ids.append(int(rally_id[0][0].item()))\n",
    "            opponent_names.append(opponent_name[0][0])\n",
    "            labels = labels.squeeze(1).long().cuda()\n",
    "            output,_ = model(seq, seq_length)\n",
    "\n",
    "            embeddings = torch.cat([embeddings, output], axis=0)\n",
    "            classes = torch.cat([classes, labels], axis=0)\n",
    "            \n",
    "    return embeddings, classes.cpu().numpy(), rally_ids, opponent_names"
   ]
  },
  {
   "cell_type": "code",
   "execution_count": 17,
   "metadata": {},
   "outputs": [],
   "source": [
    "train, test = train_test_split(rids, 0.2)\n",
    "train_dataset = PlayerClassificationDataset(data, train, 'train')\n",
    "test_dataset = PlayerClassificationDataset(data, test, 'test')"
   ]
  },
  {
   "cell_type": "code",
   "execution_count": 18,
   "metadata": {},
   "outputs": [
    {
     "data": {
      "text/plain": [
       "(tensor([[ 0.0000,  0.0000,  1.0000,  1.0000, -0.0625,  0.6762, -0.0625,  0.6762,\n",
       "           0.6375, -0.9238,  0.0000,  0.0000],\n",
       "         [ 0.0000,  0.0000,  1.0000,  0.0000,  0.5938, -0.7048,  0.2875, -0.7333,\n",
       "           0.0625,  0.8381, 19.0000,  2.0000],\n",
       "         [ 0.0000,  0.0000,  0.0000,  1.0000, -0.6438,  1.4952, -0.4500,  1.3619,\n",
       "          -0.0312, -1.0667, 21.0000,  3.0000],\n",
       "         [ 0.0000,  0.0000,  1.0000,  0.0000, -0.1625, -1.1143, -0.1937, -1.1714,\n",
       "          -0.2750,  1.2667, 13.0000,  4.0000],\n",
       "         [ 0.0000,  0.0000,  0.0000,  1.0000, -0.5813,  0.1048, -0.4187,  0.6762,\n",
       "          -0.1562, -1.0857, 18.0000,  2.0000],\n",
       "         [ 0.0000,  0.0000,  0.0000,  1.0000,  0.1125, -1.0762,  0.0812, -0.9905,\n",
       "          -0.1437,  0.8095, 13.0000,  5.0000]]),\n",
       " tensor([[6.]]),\n",
       " tensor([[1.]]),\n",
       " array(['CHOU Tien Chen'], dtype='<U14'))"
      ]
     },
     "execution_count": 18,
     "metadata": {},
     "output_type": "execute_result"
    }
   ],
   "source": [
    "train_dataset[0]"
   ]
  },
  {
   "cell_type": "code",
   "execution_count": 19,
   "metadata": {},
   "outputs": [],
   "source": [
    "train_loader = DataLoader(train_dataset, batch_size=1, shuffle=False, collate_fn=collate_fn)\n",
    "test_loader = DataLoader(test_dataset, batch_size=1, shuffle=False, collate_fn=collate_fn)"
   ]
  },
  {
   "cell_type": "code",
   "execution_count": 20,
   "metadata": {},
   "outputs": [],
   "source": [
    "num_classes = 11\n",
    "hidden_dim = 64"
   ]
  },
  {
   "cell_type": "code",
   "execution_count": 196,
   "metadata": {},
   "outputs": [],
   "source": [
    "with open('./5_29_player_embedding_no_girl', 'rb') as handle:\n",
    "    class_embedding = pickle.load(handle)"
   ]
  },
  {
   "cell_type": "code",
   "execution_count": 197,
   "metadata": {},
   "outputs": [],
   "source": [
    "class_embedding = np.array(list(class_embedding.values()))"
   ]
  },
  {
   "cell_type": "code",
   "execution_count": 221,
   "metadata": {},
   "outputs": [],
   "source": [
    "def class_distance_viz(class_embedding):\n",
    "    class_dist = cdist(class_embedding, class_embedding)\n",
    "    fig, ax = plt.subplots(figsize=(12, 10))\n",
    "    df = pd.DataFrame(class_dist, [cat2player(i) for i in range(num_classes)], [cat2player(i) for i in range(num_classes)])\n",
    "    \n",
    "    sn.heatmap(df, annot=True, annot_kws={\"size\": 10}, cmap='GnBu', fmt='.2f', ax=ax, square=True)\n",
    "    b, t = ax.get_ylim()\n",
    "    b += 0.5 \n",
    "    t -= 0.5 \n",
    "    ax.set_title(\"Distance of Embedding between Players\")\n",
    "    ax.set_ylim(b, t) \n",
    "    ax.xaxis.set_tick_params(rotation=90)\n",
    "    ax.yaxis.set_tick_params(rotation=0)\n",
    "    ax.set_xlabel('Player')\n",
    "    ax.set_ylabel('Player')\n",
    "    for item in ([ax.xaxis.label, ax.yaxis.label] + ax.get_xticklabels() + ax.get_yticklabels()):\n",
    "        item.set_fontsize(12)\n",
    "    ax.title.set_fontsize(16)"
   ]
  },
  {
   "cell_type": "code",
   "execution_count": 222,
   "metadata": {},
   "outputs": [
    {
     "ename": "ValueError",
     "evalue": "Input vector should be 1-D.",
     "output_type": "error",
     "traceback": [
      "\u001b[0;31m----------------------------------------\u001b[0m",
      "\u001b[0;31mValueError\u001b[0mTraceback (most recent call last)",
      "\u001b[0;32m<ipython-input-222-79d016dc00d5>\u001b[0m in \u001b[0;36m<module>\u001b[0;34m\u001b[0m\n\u001b[0;32m----> 1\u001b[0;31m \u001b[0mclass_distance_viz\u001b[0m\u001b[0;34m(\u001b[0m\u001b[0mclass_embedding\u001b[0m\u001b[0;34m)\u001b[0m\u001b[0;34m\u001b[0m\u001b[0;34m\u001b[0m\u001b[0m\n\u001b[0m",
      "\u001b[0;32m<ipython-input-221-31331f346193>\u001b[0m in \u001b[0;36mclass_distance_viz\u001b[0;34m(class_embedding)\u001b[0m\n\u001b[1;32m      1\u001b[0m \u001b[0;32mdef\u001b[0m \u001b[0mclass_distance_viz\u001b[0m\u001b[0;34m(\u001b[0m\u001b[0mclass_embedding\u001b[0m\u001b[0;34m)\u001b[0m\u001b[0;34m:\u001b[0m\u001b[0;34m\u001b[0m\u001b[0;34m\u001b[0m\u001b[0m\n\u001b[0;32m----> 2\u001b[0;31m     \u001b[0mclass_dist\u001b[0m \u001b[0;34m=\u001b[0m \u001b[0;36m1\u001b[0m \u001b[0;34m-\u001b[0m\u001b[0mspatial\u001b[0m\u001b[0;34m.\u001b[0m\u001b[0mdistance\u001b[0m\u001b[0;34m.\u001b[0m\u001b[0mcosine\u001b[0m\u001b[0;34m(\u001b[0m\u001b[0mclass_embedding\u001b[0m\u001b[0;34m,\u001b[0m \u001b[0mclass_embedding\u001b[0m\u001b[0;34m)\u001b[0m\u001b[0;34m\u001b[0m\u001b[0;34m\u001b[0m\u001b[0m\n\u001b[0m\u001b[1;32m      3\u001b[0m     \u001b[0mfig\u001b[0m\u001b[0;34m,\u001b[0m \u001b[0max\u001b[0m \u001b[0;34m=\u001b[0m \u001b[0mplt\u001b[0m\u001b[0;34m.\u001b[0m\u001b[0msubplots\u001b[0m\u001b[0;34m(\u001b[0m\u001b[0mfigsize\u001b[0m\u001b[0;34m=\u001b[0m\u001b[0;34m(\u001b[0m\u001b[0;36m12\u001b[0m\u001b[0;34m,\u001b[0m \u001b[0;36m10\u001b[0m\u001b[0;34m)\u001b[0m\u001b[0;34m)\u001b[0m\u001b[0;34m\u001b[0m\u001b[0;34m\u001b[0m\u001b[0m\n\u001b[1;32m      4\u001b[0m     \u001b[0mdf\u001b[0m \u001b[0;34m=\u001b[0m \u001b[0mpd\u001b[0m\u001b[0;34m.\u001b[0m\u001b[0mDataFrame\u001b[0m\u001b[0;34m(\u001b[0m\u001b[0mclass_dist\u001b[0m\u001b[0;34m,\u001b[0m \u001b[0;34m[\u001b[0m\u001b[0mcat2player\u001b[0m\u001b[0;34m(\u001b[0m\u001b[0mi\u001b[0m\u001b[0;34m)\u001b[0m \u001b[0;32mfor\u001b[0m \u001b[0mi\u001b[0m \u001b[0;32min\u001b[0m \u001b[0mrange\u001b[0m\u001b[0;34m(\u001b[0m\u001b[0mnum_classes\u001b[0m\u001b[0;34m)\u001b[0m\u001b[0;34m]\u001b[0m\u001b[0;34m,\u001b[0m \u001b[0;34m[\u001b[0m\u001b[0mcat2player\u001b[0m\u001b[0;34m(\u001b[0m\u001b[0mi\u001b[0m\u001b[0;34m)\u001b[0m \u001b[0;32mfor\u001b[0m \u001b[0mi\u001b[0m \u001b[0;32min\u001b[0m \u001b[0mrange\u001b[0m\u001b[0;34m(\u001b[0m\u001b[0mnum_classes\u001b[0m\u001b[0;34m)\u001b[0m\u001b[0;34m]\u001b[0m\u001b[0;34m)\u001b[0m\u001b[0;34m\u001b[0m\u001b[0;34m\u001b[0m\u001b[0m\n\u001b[1;32m      5\u001b[0m \u001b[0;34m\u001b[0m\u001b[0m\n",
      "\u001b[0;32m~/.local/lib/python3.8/site-packages/scipy/spatial/distance.py\u001b[0m in \u001b[0;36mcosine\u001b[0;34m(u, v, w)\u001b[0m\n\u001b[1;32m    759\u001b[0m     \u001b[0;31m# cosine distance is also referred to as 'uncentered correlation',\u001b[0m\u001b[0;34m\u001b[0m\u001b[0;34m\u001b[0m\u001b[0;34m\u001b[0m\u001b[0m\n\u001b[1;32m    760\u001b[0m     \u001b[0;31m#   or 'reflective correlation'\u001b[0m\u001b[0;34m\u001b[0m\u001b[0;34m\u001b[0m\u001b[0;34m\u001b[0m\u001b[0m\n\u001b[0;32m--> 761\u001b[0;31m     \u001b[0;32mreturn\u001b[0m \u001b[0mcorrelation\u001b[0m\u001b[0;34m(\u001b[0m\u001b[0mu\u001b[0m\u001b[0;34m,\u001b[0m \u001b[0mv\u001b[0m\u001b[0;34m,\u001b[0m \u001b[0mw\u001b[0m\u001b[0;34m=\u001b[0m\u001b[0mw\u001b[0m\u001b[0;34m,\u001b[0m \u001b[0mcentered\u001b[0m\u001b[0;34m=\u001b[0m\u001b[0;32mFalse\u001b[0m\u001b[0;34m)\u001b[0m\u001b[0;34m\u001b[0m\u001b[0;34m\u001b[0m\u001b[0m\n\u001b[0m\u001b[1;32m    762\u001b[0m \u001b[0;34m\u001b[0m\u001b[0m\n\u001b[1;32m    763\u001b[0m \u001b[0;34m\u001b[0m\u001b[0m\n",
      "\u001b[0;32m~/.local/lib/python3.8/site-packages/scipy/spatial/distance.py\u001b[0m in \u001b[0;36mcorrelation\u001b[0;34m(u, v, w, centered)\u001b[0m\n\u001b[1;32m    700\u001b[0m \u001b[0;34m\u001b[0m\u001b[0m\n\u001b[1;32m    701\u001b[0m     \"\"\"\n\u001b[0;32m--> 702\u001b[0;31m     \u001b[0mu\u001b[0m \u001b[0;34m=\u001b[0m \u001b[0m_validate_vector\u001b[0m\u001b[0;34m(\u001b[0m\u001b[0mu\u001b[0m\u001b[0;34m)\u001b[0m\u001b[0;34m\u001b[0m\u001b[0;34m\u001b[0m\u001b[0m\n\u001b[0m\u001b[1;32m    703\u001b[0m     \u001b[0mv\u001b[0m \u001b[0;34m=\u001b[0m \u001b[0m_validate_vector\u001b[0m\u001b[0;34m(\u001b[0m\u001b[0mv\u001b[0m\u001b[0;34m)\u001b[0m\u001b[0;34m\u001b[0m\u001b[0;34m\u001b[0m\u001b[0m\n\u001b[1;32m    704\u001b[0m     \u001b[0;32mif\u001b[0m \u001b[0mw\u001b[0m \u001b[0;32mis\u001b[0m \u001b[0;32mnot\u001b[0m \u001b[0;32mNone\u001b[0m\u001b[0;34m:\u001b[0m\u001b[0;34m\u001b[0m\u001b[0;34m\u001b[0m\u001b[0m\n",
      "\u001b[0;32m~/.local/lib/python3.8/site-packages/scipy/spatial/distance.py\u001b[0m in \u001b[0;36m_validate_vector\u001b[0;34m(u, dtype)\u001b[0m\n\u001b[1;32m    330\u001b[0m     \u001b[0mu\u001b[0m \u001b[0;34m=\u001b[0m \u001b[0mnp\u001b[0m\u001b[0;34m.\u001b[0m\u001b[0matleast_1d\u001b[0m\u001b[0;34m(\u001b[0m\u001b[0mu\u001b[0m\u001b[0;34m)\u001b[0m\u001b[0;34m\u001b[0m\u001b[0;34m\u001b[0m\u001b[0m\n\u001b[1;32m    331\u001b[0m     \u001b[0;32mif\u001b[0m \u001b[0mu\u001b[0m\u001b[0;34m.\u001b[0m\u001b[0mndim\u001b[0m \u001b[0;34m>\u001b[0m \u001b[0;36m1\u001b[0m\u001b[0;34m:\u001b[0m\u001b[0;34m\u001b[0m\u001b[0;34m\u001b[0m\u001b[0m\n\u001b[0;32m--> 332\u001b[0;31m         \u001b[0;32mraise\u001b[0m \u001b[0mValueError\u001b[0m\u001b[0;34m(\u001b[0m\u001b[0;34m\"Input vector should be 1-D.\"\u001b[0m\u001b[0;34m)\u001b[0m\u001b[0;34m\u001b[0m\u001b[0;34m\u001b[0m\u001b[0m\n\u001b[0m\u001b[1;32m    333\u001b[0m     \u001b[0;32mreturn\u001b[0m \u001b[0mu\u001b[0m\u001b[0;34m\u001b[0m\u001b[0;34m\u001b[0m\u001b[0m\n\u001b[1;32m    334\u001b[0m \u001b[0;34m\u001b[0m\u001b[0m\n",
      "\u001b[0;31mValueError\u001b[0m: Input vector should be 1-D."
     ]
    }
   ],
   "source": [
    "class_distance_viz(class_embedding)"
   ]
  },
  {
   "cell_type": "code",
   "execution_count": 25,
   "metadata": {},
   "outputs": [
    {
     "data": {
      "text/plain": [
       "CNNRNN(\n",
       "  (type_embedding): Embedding(10, 32)\n",
       "  (proj): Linear(in_features=11, out_features=32, bias=True)\n",
       "  (fc1): Linear(in_features=64, out_features=64, bias=True)\n",
       "  (conv1): Conv1d(64, 64, kernel_size=(3,), stride=(1,), padding=(1,))\n",
       "  (GRU): GRU(64, 64, num_layers=2, batch_first=True, bidirectional=True)\n",
       "  (fc2): Linear(in_features=128, out_features=64, bias=True)\n",
       "  (output): Linear(in_features=64, out_features=14, bias=True)\n",
       "  (relu): ReLU()\n",
       ")"
      ]
     },
     "execution_count": 25,
     "metadata": {},
     "output_type": "execute_result"
    }
   ],
   "source": [
    "net = CNNRNN(12, 32, hidden_dim, num_classes, 2).cuda()\n",
    "net.load_state_dict(torch.load('for_5_29_no_girl.pt'))\n",
    "net.eval()"
   ]
  },
  {
   "cell_type": "code",
   "execution_count": 26,
   "metadata": {},
   "outputs": [],
   "source": [
    "train_embedding, train_label, train_id, train_opponent_name = generate_all_embedding(num_classes, hidden_dim, net, train_loader)\n",
    "test_embedding, test_label, test_id, test_opponent_name = generate_all_embedding(num_classes, hidden_dim, net, test_loader)"
   ]
  },
  {
   "cell_type": "code",
   "execution_count": 27,
   "metadata": {},
   "outputs": [],
   "source": [
    "train_embedding = train_embedding.cpu().numpy()\n",
    "test_embedding = test_embedding.cpu().numpy()"
   ]
  },
  {
   "cell_type": "code",
   "execution_count": 28,
   "metadata": {},
   "outputs": [],
   "source": [
    "all_embedding = np.concatenate([train_embedding, test_embedding])\n",
    "all_label = np.concatenate([train_label, test_label])\n",
    "all_id = np.concatenate([train_id, test_id])\n",
    "all_opponent_name = np.concatenate([train_opponent_name, test_opponent_name])"
   ]
  },
  {
   "cell_type": "code",
   "execution_count": 29,
   "metadata": {},
   "outputs": [
    {
     "data": {
      "text/plain": [
       "((5348, 64), (5348,), (5348,), (5348,))"
      ]
     },
     "execution_count": 29,
     "metadata": {},
     "output_type": "execute_result"
    }
   ],
   "source": [
    "all_embedding.shape, all_label.shape, all_id.shape, all_opponent_name.shape"
   ]
  },
  {
   "cell_type": "code",
   "execution_count": 31,
   "metadata": {},
   "outputs": [],
   "source": [
    "all_dist = cdist(all_embedding, class_embedding)"
   ]
  },
  {
   "cell_type": "code",
   "execution_count": 33,
   "metadata": {},
   "outputs": [],
   "source": [
    "all_pred = np.argmin(all_dist, axis=1)"
   ]
  },
  {
   "cell_type": "code",
   "execution_count": 34,
   "metadata": {},
   "outputs": [],
   "source": [
    "all_wrong_dict = {0 : [], 1 : [], 2 : [], 3 : [],\n",
    "              4 : [], 5 : [], 6 : [], 7 : [], 8 : [], 9 : [], 10 : []}"
   ]
  },
  {
   "cell_type": "code",
   "execution_count": 35,
   "metadata": {},
   "outputs": [],
   "source": [
    "for i in range(len(all_dist)):\n",
    "    if all_pred[i] != all_label[i]:\n",
    "        all_wrong_dict[all_label[i]].append([all_id[i], all_pred[i], all_opponent_name[i]])"
   ]
  },
  {
   "cell_type": "code",
   "execution_count": 36,
   "metadata": {},
   "outputs": [],
   "source": [
    "class_dist = cdist(class_embedding, class_embedding)"
   ]
  },
  {
   "cell_type": "code",
   "execution_count": 37,
   "metadata": {},
   "outputs": [],
   "source": [
    "most_likely = np.argsort(class_dist, axis=1)[:, -2]\n",
    "most_unlikely = np.argmax(class_dist, axis=1)"
   ]
  },
  {
   "cell_type": "code",
   "execution_count": 38,
   "metadata": {},
   "outputs": [
    {
     "name": "stdout",
     "output_type": "stream",
     "text": [
      "Target:  Anders ANTONSEN\n",
      "Like:  Khosit PHETPRADAB\n",
      "Unlike: PUSARLA V. Sindhu\n",
      "\n",
      "Target:  Anthony Sinisuka GINTING\n",
      "Like:  WANG Tzu Wei\n",
      "Unlike: SHI Yuqi\n",
      "\n",
      "Target:  CHEN Long\n",
      "Like:  SHI Yuqi\n",
      "Unlike: Khosit PHETPRADAB\n",
      "\n",
      "Target:  CHEN Yufei\n",
      "Like:  Khosit PHETPRADAB\n",
      "Unlike: WANG Tzu Wei\n",
      "\n",
      "Target:  CHOU Tien Chen\n",
      "Like:  CHEN Yufei\n",
      "Unlike: Khosit PHETPRADAB\n",
      "\n",
      "Target:  Jonatan CHRISTIE\n",
      "Like:  CHEN Yufei\n",
      "Unlike: Khosit PHETPRADAB\n",
      "\n",
      "Target:  Kento MOMOTA\n",
      "Like:  CHEN Yufei\n",
      "Unlike: WANG Tzu Wei\n",
      "\n",
      "Target:  Khosit PHETPRADAB\n",
      "Like:  CHEN Yufei\n",
      "Unlike: SHI Yuqi\n",
      "\n",
      "Target:  NG Ka Long Angus\n",
      "Like:  WANG Tzu Wei\n",
      "Unlike: SHI Yuqi\n",
      "\n",
      "Target:  PUSARLA V. Sindhu\n",
      "Like:  WANG Tzu Wei\n",
      "Unlike: SHI Yuqi\n",
      "\n",
      "Target:  SHI Yuqi\n",
      "Like:  PUSARLA V. Sindhu\n",
      "Unlike: Khosit PHETPRADAB\n",
      "\n",
      "Target:  TAI Tzu Ying\n",
      "Like:  WANG Tzu Wei\n",
      "Unlike: Khosit PHETPRADAB\n",
      "\n",
      "Target:  Viktor AXELSEN\n",
      "Like:  WANG Tzu Wei\n",
      "Unlike: PUSARLA V. Sindhu\n",
      "\n",
      "Target:  WANG Tzu Wei\n",
      "Like:  PUSARLA V. Sindhu\n",
      "Unlike: CHEN Yufei\n",
      "\n"
     ]
    }
   ],
   "source": [
    "for i in range(num_classes):\n",
    "    print('Target: ', target_players[i])\n",
    "    print('Like: ', target_players[most_likely[i]])\n",
    "    print('Unlike:', target_players[most_unlikely[i]])\n",
    "    print()"
   ]
  },
  {
   "cell_type": "code",
   "execution_count": 125,
   "metadata": {},
   "outputs": [
    {
     "data": {
      "text/plain": [
       "\"\\n'Anders ANTONSEN': 0 \\n'Anthony Sinisuka GINTING': 1\\n'CHEN Long': 2\\n'CHEN Yufei': 3\\n'CHOU Tien Chen': 4\\n'Jonatan CHRISTIE': 5\\n'Kento MOMOTA': 6\\n'Khosit PHETPRADAB': 7\\n'NG Ka Long Angus': 8\\n'PUSARLA V. Sindhu': 9,\\n'SHI Yuqi': 10\\n'TAI Tzu Ying': 11\\n'Viktor AXELSEN': 12\\n'WANG Tzu Wei': 13\\n\""
      ]
     },
     "execution_count": 125,
     "metadata": {},
     "output_type": "execute_result"
    }
   ],
   "source": [
    "\"\"\"\n",
    "'Anders ANTONSEN': 0, \n",
    "'Anthony Sinisuka GINTING': 1, \n",
    "'CHEN Long': 2,\n",
    "'CHOU Tien Chen': 3, \n",
    "'Jonatan CHRISTIE': 4, \n",
    "'Kento MOMOTA': 5,\n",
    "'Khosit PHETPRADAB': 6, \n",
    "'NG Ka Long Angus': 7,\n",
    "'SHI Yuqi': 8,  \n",
    "'Viktor AXELSEN': 9, \n",
    "'WANG Tzu Wei': 10\n",
    "\"\"\""
   ]
  },
  {
   "cell_type": "code",
   "execution_count": 183,
   "metadata": {},
   "outputs": [],
   "source": [
    "player = 12"
   ]
  },
  {
   "cell_type": "code",
   "execution_count": 184,
   "metadata": {},
   "outputs": [
    {
     "data": {
      "text/plain": [
       "Counter({'CHOU Tien Chen': 263,\n",
       "         'Kento MOMOTA': 44,\n",
       "         'Anthony Sinisuka GINTING': 87,\n",
       "         'SHI Yuqi': 16,\n",
       "         'CHEN Long': 83,\n",
       "         'NG Ka Long Angus': 80,\n",
       "         'Jonatan CHRISTIE': 22,\n",
       "         'LIEW Daren': 32,\n",
       "         'Hans-Kristian Solberg VITTINGHUS': 41,\n",
       "         'Anders ANTONSEN': 70})"
      ]
     },
     "execution_count": 184,
     "metadata": {},
     "output_type": "execute_result"
    }
   ],
   "source": [
    "from collections import Counter\n",
    "count = Counter()\n",
    "for i in range(len(all_dist)):\n",
    "    if all_label[i] == player:\n",
    "        count[all_opponent_name[i]] += 1\n",
    "count"
   ]
  },
  {
   "cell_type": "code",
   "execution_count": 185,
   "metadata": {},
   "outputs": [
    {
     "data": {
      "text/plain": [
       "Counter({'CHOU Tien Chen': 12,\n",
       "         'Kento MOMOTA': 18,\n",
       "         'Anthony Sinisuka GINTING': 32,\n",
       "         'SHI Yuqi': 5,\n",
       "         'NG Ka Long Angus': 8,\n",
       "         'Hans-Kristian Solberg VITTINGHUS': 4,\n",
       "         'Anders ANTONSEN': 23,\n",
       "         'CHEN Long': 3})"
      ]
     },
     "execution_count": 185,
     "metadata": {},
     "output_type": "execute_result"
    }
   ],
   "source": [
    "from collections import Counter\n",
    "count = Counter()\n",
    "for name in all_wrong_dict[player]:\n",
    "    count[name[2]] += 1\n",
    "count"
   ]
  },
  {
   "cell_type": "code",
   "execution_count": 186,
   "metadata": {},
   "outputs": [
    {
     "data": {
      "text/plain": [
       "Counter({'CHOU': 36,\n",
       "         'GINTING': 11,\n",
       "         'ANTONSEN': 35,\n",
       "         'NG': 11,\n",
       "         'CHRISTIE': 10,\n",
       "         'MOMOTA': 1,\n",
       "         'PHETPRADAB': 1})"
      ]
     },
     "execution_count": 186,
     "metadata": {},
     "output_type": "execute_result"
    }
   ],
   "source": [
    "from collections import Counter\n",
    "count = Counter()\n",
    "for name in all_wrong_dict[player]:\n",
    "    count[cat2player(name[1])] += 1\n",
    "count"
   ]
  },
  {
   "cell_type": "code",
   "execution_count": 187,
   "metadata": {},
   "outputs": [
    {
     "data": {
      "text/plain": [
       "defaultdict(<function __main__.<lambda>()>,\n",
       "            {'CHOU Tien Chen': defaultdict(<function __main__.<lambda>.<locals>.<lambda>()>,\n",
       "                         {'CHOU': 2, 'GINTING': 5, 'ANTONSEN': 4, 'NG': 1}),\n",
       "             'Kento MOMOTA': defaultdict(<function __main__.<lambda>.<locals>.<lambda>()>,\n",
       "                         {'CHOU': 16, 'ANTONSEN': 1, 'NG': 1}),\n",
       "             'Anthony Sinisuka GINTING': defaultdict(<function __main__.<lambda>.<locals>.<lambda>()>,\n",
       "                         {'ANTONSEN': 24,\n",
       "                          'CHRISTIE': 5,\n",
       "                          'CHOU': 2,\n",
       "                          'MOMOTA': 1}),\n",
       "             'SHI Yuqi': defaultdict(<function __main__.<lambda>.<locals>.<lambda>()>,\n",
       "                         {'GINTING': 4, 'CHOU': 1}),\n",
       "             'NG Ka Long Angus': defaultdict(<function __main__.<lambda>.<locals>.<lambda>()>,\n",
       "                         {'CHOU': 4, 'ANTONSEN': 2, 'NG': 2}),\n",
       "             'Hans-Kristian Solberg VITTINGHUS': defaultdict(<function __main__.<lambda>.<locals>.<lambda>()>,\n",
       "                         {'NG': 1, 'PHETPRADAB': 1, 'ANTONSEN': 2}),\n",
       "             'Anders ANTONSEN': defaultdict(<function __main__.<lambda>.<locals>.<lambda>()>,\n",
       "                         {'CHOU': 10,\n",
       "                          'ANTONSEN': 2,\n",
       "                          'NG': 4,\n",
       "                          'CHRISTIE': 5,\n",
       "                          'GINTING': 2}),\n",
       "             'CHEN Long': defaultdict(<function __main__.<lambda>.<locals>.<lambda>()>,\n",
       "                         {'NG': 2, 'CHOU': 1})})"
      ]
     },
     "execution_count": 187,
     "metadata": {},
     "output_type": "execute_result"
    }
   ],
   "source": [
    "from collections import Counter, defaultdict\n",
    "ht = {}\n",
    "count = defaultdict(lambda: defaultdict(lambda: 0))\n",
    "for name in all_wrong_dict[player]:\n",
    "    count[name[2]][cat2player(name[1])] += 1\n",
    "count"
   ]
  },
  {
   "cell_type": "code",
   "execution_count": null,
   "metadata": {},
   "outputs": [],
   "source": []
  },
  {
   "cell_type": "code",
   "execution_count": null,
   "metadata": {},
   "outputs": [],
   "source": []
  }
 ],
 "metadata": {
  "kernelspec": {
   "display_name": "Python 3",
   "language": "python",
   "name": "python3"
  },
  "language_info": {
   "codemirror_mode": {
    "name": "ipython",
    "version": 3
   },
   "file_extension": ".py",
   "mimetype": "text/x-python",
   "name": "python",
   "nbconvert_exporter": "python",
   "pygments_lexer": "ipython3",
   "version": "3.8.5"
  }
 },
 "nbformat": 4,
 "nbformat_minor": 4
}
