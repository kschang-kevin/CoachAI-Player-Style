{
 "cells": [
  {
   "cell_type": "code",
   "execution_count": 1,
   "metadata": {},
   "outputs": [],
   "source": [
    "import pandas as pd\n",
    "import numpy as np\n",
    "import random\n",
    "import matplotlib.pyplot as plt\n",
    "import os"
   ]
  },
  {
   "cell_type": "code",
   "execution_count": 12,
   "metadata": {},
   "outputs": [],
   "source": [
    "ori_players = {'Anders ANTONSEN': 259,\n",
    "               'Anthony Sinisuka GINTING': 219,\n",
    "               'CHEN Long': 149,\n",
    "               'CHOU Tien Chen': 1666,\n",
    "               'Jonatan CHRISTIE': 177,\n",
    "               'Kento MOMOTA': 538,\n",
    "               'NG Ka Long Angus': 154,\n",
    "               'Viktor AXELSEN': 170}"
   ]
  },
  {
   "cell_type": "code",
   "execution_count": 13,
   "metadata": {},
   "outputs": [],
   "source": [
    "root = './data/'\n",
    "matches_file = 'match.csv'"
   ]
  },
  {
   "cell_type": "code",
   "execution_count": 14,
   "metadata": {},
   "outputs": [],
   "source": [
    "match_info = pd.read_csv(root + matches_file)\n",
    "#match_info = match_info.loc[(match_info['winner']=='CHOU Tien Chen') | (match_info['loser']=='CHOU Tien Chen')]"
   ]
  },
  {
   "cell_type": "code",
   "execution_count": 15,
   "metadata": {},
   "outputs": [],
   "source": [
    "players = np.concatenate((match_info['winner'].to_numpy(), match_info['loser'].to_numpy()))\n",
    "unique_players = np.unique(players, return_counts=False)"
   ]
  },
  {
   "cell_type": "code",
   "execution_count": 16,
   "metadata": {},
   "outputs": [
    {
     "name": "stdout",
     "output_type": "stream",
     "text": [
      "{'Anders ANTONSEN': 5, 'Anthony Sinisuka GINTING': 4, 'CHEN Long': 3, 'CHEN Yufei': 2, 'CHOU Tien Chen': 19, 'Jonatan CHRISTIE': 4, 'Kento MOMOTA': 8, 'Khosit PHETPRADAB': 1, 'NG Ka Long Angus': 5, 'PUSARLA V. Sindhu': 1, 'SHI Yuqi': 2, 'TAI Tzu Ying': 3, 'Viktor AXELSEN': 7, 'WANG Tzu Wei': 2}\n"
     ]
    },
    {
     "data": {
      "text/plain": [
       "['Anders ANTONSEN',\n",
       " 'Anthony Sinisuka GINTING',\n",
       " 'CHEN Long',\n",
       " 'CHEN Yufei',\n",
       " 'CHOU Tien Chen',\n",
       " 'Jonatan CHRISTIE',\n",
       " 'Kento MOMOTA',\n",
       " 'Khosit PHETPRADAB',\n",
       " 'NG Ka Long Angus',\n",
       " 'PUSARLA V. Sindhu',\n",
       " 'SHI Yuqi',\n",
       " 'TAI Tzu Ying',\n",
       " 'Viktor AXELSEN',\n",
       " 'WANG Tzu Wei']"
      ]
     },
     "execution_count": 16,
     "metadata": {},
     "output_type": "execute_result"
    }
   ],
   "source": [
    "players, counts = np.unique(players, return_counts=True)\n",
    "\n",
    "#valid_players = [p for p, c in zip(players, counts) if c >= 4]\n",
    "valid_players = [p for p, c in zip(players, counts)]\n",
    "p2c = {p: c for p, c in zip(players, counts)}\n",
    "print(p2c)\n",
    "valid_players"
   ]
  },
  {
   "cell_type": "code",
   "execution_count": 17,
   "metadata": {},
   "outputs": [],
   "source": [
    "match_info = match_info.loc[(match_info['winner'].isin(valid_players)) | (match_info['loser'].isin(valid_players))]\n",
    "matches = match_info['video'].to_numpy()"
   ]
  },
  {
   "cell_type": "code",
   "execution_count": 18,
   "metadata": {},
   "outputs": [
    {
     "data": {
      "text/plain": [
       "33"
      ]
     },
     "execution_count": 18,
     "metadata": {},
     "output_type": "execute_result"
    }
   ],
   "source": [
    "len(match_info)"
   ]
  },
  {
   "cell_type": "code",
   "execution_count": 19,
   "metadata": {},
   "outputs": [],
   "source": [
    "data = None\n",
    "for match in matches:\n",
    "    info = match_info.loc[match_info['video'] == match].iloc[0]\n",
    "    path = root + match\n",
    "    for set_num in range(1, info['set'] + 1):\n",
    "        set_data = pd.read_csv(path + '/set' + str(set_num) + '.csv')\n",
    "        set_data.insert(len(set_data.columns), 'name_A', info['winner'])\n",
    "        set_data.insert(len(set_data.columns), 'name_B', info['loser'])\n",
    "        if data is None:\n",
    "            data = set_data\n",
    "        else:\n",
    "            max_rally = data.rally.max()\n",
    "            set_data['rally'] += max_rally\n",
    "            data = data.append(set_data)"
   ]
  },
  {
   "cell_type": "code",
   "execution_count": 20,
   "metadata": {},
   "outputs": [],
   "source": [
    "player2rc = {player: 0 for player in unique_players}\n",
    "for rally in data.rally.unique():\n",
    "    player2rc[data.loc[data['rally']==rally].iloc[0]['name_A']] += 1\n",
    "    player2rc[data.loc[data['rally']==rally].iloc[0]['name_B']] += 1"
   ]
  },
  {
   "cell_type": "code",
   "execution_count": 21,
   "metadata": {},
   "outputs": [],
   "source": [
    "#data.to_csv('aug_set.csv', index=False)"
   ]
  },
  {
   "cell_type": "code",
   "execution_count": 22,
   "metadata": {},
   "outputs": [
    {
     "data": {
      "text/plain": [
       "{'Anders ANTONSEN': 460,\n",
       " 'Anthony Sinisuka GINTING': 383,\n",
       " 'CHEN Long': 258,\n",
       " 'CHEN Yufei': 173,\n",
       " 'CHOU Tien Chen': 1668,\n",
       " 'Jonatan CHRISTIE': 370,\n",
       " 'Kento MOMOTA': 687,\n",
       " 'Khosit PHETPRADAB': 112,\n",
       " 'NG Ka Long Angus': 403,\n",
       " 'PUSARLA V. Sindhu': 117,\n",
       " 'SHI Yuqi': 143,\n",
       " 'TAI Tzu Ying': 290,\n",
       " 'Viktor AXELSEN': 553,\n",
       " 'WANG Tzu Wei': 183}"
      ]
     },
     "execution_count": 22,
     "metadata": {},
     "output_type": "execute_result"
    }
   ],
   "source": [
    "{p: c for p, c in player2rc.items() if p in valid_players}"
   ]
  },
  {
   "cell_type": "code",
   "execution_count": 24,
   "metadata": {},
   "outputs": [
    {
     "data": {
      "text/plain": [
       "2930"
      ]
     },
     "execution_count": 24,
     "metadata": {},
     "output_type": "execute_result"
    }
   ],
   "source": [
    "data.rally.max()"
   ]
  },
  {
   "cell_type": "code",
   "execution_count": null,
   "metadata": {},
   "outputs": [],
   "source": []
  }
 ],
 "metadata": {
  "kernelspec": {
   "display_name": "Python 3",
   "language": "python",
   "name": "python3"
  },
  "language_info": {
   "codemirror_mode": {
    "name": "ipython",
    "version": 3
   },
   "file_extension": ".py",
   "mimetype": "text/x-python",
   "name": "python",
   "nbconvert_exporter": "python",
   "pygments_lexer": "ipython3",
   "version": "3.8.5"
  }
 },
 "nbformat": 4,
 "nbformat_minor": 4
}
