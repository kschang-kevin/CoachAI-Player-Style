{
 "cells": [
  {
   "cell_type": "code",
   "execution_count": 1,
   "metadata": {},
   "outputs": [],
   "source": [
    "import pandas as pd \n",
    "import numpy as np\n",
    "from sklearn import preprocessing"
   ]
  },
  {
   "cell_type": "code",
   "execution_count": 2,
   "metadata": {},
   "outputs": [],
   "source": [
    "data = pd.read_csv('aug_set.csv')"
   ]
  },
  {
   "cell_type": "code",
   "execution_count": 3,
   "metadata": {},
   "outputs": [
    {
     "data": {
      "text/plain": [
       "(17,\n",
       " array(['Anders ANTONSEN', 'Anthony Sinisuka GINTING', 'CHEN Long',\n",
       "        'CHEN Yufei', 'CHOU Tien Chen', 'Hans-Kristian Solberg VITTINGHUS',\n",
       "        'Jonatan CHRISTIE', 'Kento MOMOTA', 'Khosit PHETPRADAB',\n",
       "        'LIEW Daren', 'Michelle LI', 'NG Ka Long Angus',\n",
       "        'PUSARLA V. Sindhu', 'SHI Yuqi', 'TAI Tzu Ying', 'Viktor AXELSEN',\n",
       "        'WANG Tzu Wei'], dtype=object))"
      ]
     },
     "execution_count": 3,
     "metadata": {},
     "output_type": "execute_result"
    }
   ],
   "source": [
    "len(np.unique(data[['name_A', 'name_B']].values)), np.unique(data[['name_A', 'name_B']].values)"
   ]
  },
  {
   "cell_type": "code",
   "execution_count": 4,
   "metadata": {},
   "outputs": [
    {
     "data": {
      "text/plain": [
       "array(['發短球', '長球', '推撲球', '殺球', '接殺防守', '平球', '網前球', '挑球', '切球', '發長球'],\n",
       "      dtype=object)"
      ]
     },
     "execution_count": 4,
     "metadata": {},
     "output_type": "execute_result"
    }
   ],
   "source": [
    "data['type'].unique()"
   ]
  },
  {
   "cell_type": "code",
   "execution_count": 5,
   "metadata": {},
   "outputs": [
    {
     "name": "stdout",
     "output_type": "stream",
     "text": [
      "3011\n",
      "5758\n",
      "10028\n",
      "22000\n",
      "24487\n"
     ]
    }
   ],
   "source": [
    "mem = data['rally'][0]\n",
    "cnt = 0\n",
    "for i in range(len(data)):\n",
    "    if data['rally'][i] != mem:\n",
    "        if cnt < 2:\n",
    "            print(i)\n",
    "        mem = data['rally'][i]\n",
    "        cnt = 0\n",
    "    cnt += 1\n",
    "    "
   ]
  },
  {
   "cell_type": "code",
   "execution_count": null,
   "metadata": {},
   "outputs": [],
   "source": []
  }
 ],
 "metadata": {
  "kernelspec": {
   "display_name": "Python 3",
   "language": "python",
   "name": "python3"
  },
  "language_info": {
   "codemirror_mode": {
    "name": "ipython",
    "version": 3
   },
   "file_extension": ".py",
   "mimetype": "text/x-python",
   "name": "python",
   "nbconvert_exporter": "python",
   "pygments_lexer": "ipython3",
   "version": "3.8.5"
  }
 },
 "nbformat": 4,
 "nbformat_minor": 4
}
